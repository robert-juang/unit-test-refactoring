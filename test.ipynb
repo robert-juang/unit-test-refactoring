{
 "cells": [
  {
   "cell_type": "code",
   "execution_count": 1,
   "metadata": {},
   "outputs": [],
   "source": [
    "import os \n",
    "import json "
   ]
  },
  {
   "cell_type": "code",
   "execution_count": 31,
   "metadata": {},
   "outputs": [],
   "source": [
    "class DirectoryNodeInitError(Exception): \n",
    "    code = 400 \n",
    "    description = \"Failure to initialize direcotry node\"\n",
    "\n",
    "class FileNodeInitError(Exception): \n",
    "    code = 400 \n",
    "    description = \"Failure to initialize file node\"\n",
    "\n",
    "class DirectoryGenerationError(Exception): \n",
    "    code = 400 \n",
    "    description = \"Error when generation directory\""
   ]
  },
  {
   "cell_type": "code",
   "execution_count": 149,
   "metadata": {},
   "outputs": [],
   "source": [
    "import logging \n",
    "\n",
    "class FileNode: \n",
    "    def __init__(self, path: str):\n",
    "        if (not os.path.isfile(path)): \n",
    "            raise FileExistsError\n",
    "        self.type: str = \"file\" \n",
    "        self.path: str = path \n",
    "        self.name: str = os.path.basename(path) \n",
    "        self.size: str = \"\" #TODO: use module to get \n",
    "        self.file_content_modified: str = \"\"\n",
    "        self.past_file_content: list[str] = [] #tracks past version of unit test in case we want to revert (maybe use dict bc i think we should only use 5 so we don't have ridiculous memory)\n",
    "\n",
    "        try: \n",
    "            with open(path, \"r\") as f: \n",
    "                self.file_content_original: str = f.read() \n",
    "        except Exception as e: \n",
    "            logging.error(\"Error when reading file: \",e) \n",
    "            self.file_content_original = \"\"\n",
    "\n",
    "    def unit_test(self): \n",
    "        \"\"\" Run unit test in the file. Return the unit tested code\"\"\"\n",
    "        pass \n",
    "\n",
    "    def refactor(self): \n",
    "        \"\"\"Refactor the code in this file. Return the refactored code\"\"\"\n",
    "\n",
    "\n",
    "class DirectoryNode: \n",
    "    def __init__(self, path: str):\n",
    "        if (not os.path.isdir(path)): \n",
    "            raise DirectoryNodeInitError\n",
    "        self.type: str = \"dir\"\n",
    "        self.path: str = path \n",
    "        self.name: str = os.path.basename(path)\n",
    "        self.directory_content: list[FileNode | DirectoryNode] = []\n",
    "\n",
    "class DirectoryTree: \n",
    "    \"\"\"\n",
    "    Representing a folder using a tree structure \n",
    "    \"\"\"\n",
    "    def __init__(self, \n",
    "                 root_path: str): \n",
    "        self.root = DirectoryNode(root_path)\n",
    "        self.root = self.recursive_generate(self.root) \n",
    "\n",
    "        #TODO: maybe add a cache here for fast retrieval for projects with tons of files \n",
    "\n",
    "    def recursive_generate(self, dir_node: DirectoryNode): \n",
    "        \"\"\" \n",
    "        Recursively populate the directory node\n",
    "\n",
    "        If file append \n",
    "\n",
    "        If directory recurse and populate \n",
    "        \"\"\" \n",
    "        if (not os.path.isdir(dir_node.path)): \n",
    "            raise DirectoryGenerationError\n",
    "\n",
    "        for node in list(os.listdir(dir_node.path)): \n",
    "            path_to_node: str = os.path.join(dir_node.path, node)\n",
    "\n",
    "            if os.path.isfile(path_to_node): \n",
    "                dir_node.directory_content.append(FileNode(path_to_node))\n",
    "                 \n",
    "            if os.path.isdir(path_to_node):\n",
    "                directory_node = DirectoryNode(path_to_node)\n",
    "                directory_content = self.recursive_generate(directory_node)\n",
    "                dir_node.directory_content.append(directory_content)\n",
    "\n",
    "        return dir_node\n",
    "        \n",
    "class DirectoryParser: \n",
    "    def __init__(self, root_path: str): \n",
    "        self.directory_tree = DirectoryTree(root_path)\n",
    "        #TODO: get size of directory tree and save that\n",
    "\n",
    "    def _crawl_directory(self, dir_node: DirectoryNode, dir_level: int = 1): \n",
    "        \"\"\"crawl through all file and print out file or dir name\"\"\"\n",
    "        if (not os.path.isdir(dir_node.path)): \n",
    "            raise DirectoryGenerationError\n",
    "\n",
    "        for node in dir_node.directory_content: \n",
    "            path_to_node: str = os.path.join(dir_node.path, node.name)\n",
    "            \n",
    "            if os.path.isdir(path_to_node):\n",
    "                print(f\" |{'-' * dir_level} \", node.name)\n",
    "                dir_level += 1\n",
    "                self._crawl_directory(node, dir_level)\n",
    "                dir_level -= 1\n",
    "\n",
    "            if os.path.isfile(path_to_node): \n",
    "                print(\" \\t - \", node.name)\n",
    "                 \n",
    "    def display_tree(self): \n",
    "        \"\"\"scan through entire tree and display a structure to view\"\"\"\n",
    "        \n",
    "        print(\"Starting at directory: \", self.directory_tree.root.name)\n",
    "        self._crawl_directory(self.directory_tree.root) \n",
    "    \n",
    "    def retrieve_file(self, dir_node, file_name): \n",
    "        \"\"\"Scan through the entire tree and if filename match return node of file otherwise return None\n",
    "        \n",
    "        TODO: Maybe can optimize with a faster tree ??\n",
    "        \"\"\"\n",
    "\n",
    "        for node in dir_node.directory_content: \n",
    "            path_to_node: str = os.path.join(dir_node.path, node.name)\n",
    "            \n",
    "            if os.path.isdir(path_to_node):\n",
    "                n = self.retrieve_file(node, file_name=file_name)\n",
    "                if n: \n",
    "                    return n\n",
    "            if os.path.isfile(path_to_node) and os.path.basename(path_to_node) == file_name: \n",
    "                return node \n",
    "            \n",
    "        return None "
   ]
  },
  {
   "cell_type": "code",
   "execution_count": 150,
   "metadata": {},
   "outputs": [],
   "source": [
    "root = os.path.join(os.getcwd(), \"src\")"
   ]
  },
  {
   "cell_type": "code",
   "execution_count": 151,
   "metadata": {},
   "outputs": [],
   "source": [
    "directory_parser = DirectoryParser(root)"
   ]
  },
  {
   "cell_type": "code",
   "execution_count": 152,
   "metadata": {},
   "outputs": [
    {
     "name": "stdout",
     "output_type": "stream",
     "text": [
      "Starting at directory:  src\n",
      " |-  routers\n",
      " \t -  router.py\n",
      " \t -  config.py\n",
      " |-  utils\n",
      " |-  schema\n",
      " \t -  serialize.py\n",
      " \t -  validate_schema.py\n",
      " \t -  output_schema.py\n",
      " \t -  input_schema.py\n",
      " \t -  app.py\n",
      " \t -  errors.py\n",
      " \t -  main.py\n",
      " |-  gpt_model\n",
      " \t -  generate_authorization_token.py\n",
      " \t -  call_retry.py\n",
      " \t -  response_handler.py\n",
      " \t -  gpt_extraction.py\n",
      " \t -  prompts.py\n",
      " \t -  gpt_confidence_score.py\n",
      " \t -  gpt.py\n"
     ]
    }
   ],
   "source": [
    "directory_parser.display_tree()"
   ]
  },
  {
   "cell_type": "code",
   "execution_count": 154,
   "metadata": {},
   "outputs": [],
   "source": [
    "f = directory_parser.retrieve_file(directory_parser.directory_tree.root, \"config.py\")"
   ]
  },
  {
   "cell_type": "code",
   "execution_count": 155,
   "metadata": {},
   "outputs": [
    {
     "data": {
      "text/plain": [
       "<__main__.FileNode at 0x10e8b85d0>"
      ]
     },
     "execution_count": 155,
     "metadata": {},
     "output_type": "execute_result"
    }
   ],
   "source": [
    "f"
   ]
  },
  {
   "cell_type": "code",
   "execution_count": 158,
   "metadata": {},
   "outputs": [
    {
     "data": {
      "text/plain": [
       "{'type': 'file',\n",
       " 'path': '/Users/zhidongjiang/Desktop/unit-test-refactoring/src/config.py',\n",
       " 'name': 'config.py',\n",
       " 'size': '',\n",
       " 'file_content_modified': '',\n",
       " 'past_file_content': [],\n",
       " 'file_content_original': 'import os \\nimport logging \\nfrom dotenv import load_dotenv, find_dotenv \\n\\nfrom pydantic_settings import baseSettings \\n\\nload_dotenv(override=True) \\n\\nROOT_PATH = os.getenv(\"ROOT_PATH\", None) \\n\\nclass Settings(BaseSettings): \\n    ENV: str = \"sit\"\\n    CONNECTING_STRING: str = \"\" \\n    logger: logging.Logger = logger \\n\\n    EMBEDDINGS_API_KEY : str = \"\" \\n    OPENAI_API_KEY: str = \"\" \\n    OPENAI_API_BASE: str = \"\" \\n    OPENAI_API_TYPE: str = \"\" \\n    OPENAI_API_ENDPOINT: str = \"\" \\n    LLM_MODEL_NAME: str = \"\" \\n    GPT_USERNAME: str = \"\" \\n\\n    # ENV: os.getenv(\"ENV\", \"dev\")\\n    # logger = logging.getLogger(__name__)\\n    # max_yt_api_calls = 100\\n    # model: str=\"gpt-4o-mini\" \\n    # youtube_developer_key: str=os.environ(youtube_developer_key, None) \\n\\nsetting = Settings() \\n\\nif setting.ENV == \"sit\": \\n    setting.OPENAI_API_BASE = os.getenv(\"OPENAI_API_BASE\") \\n    setting.OPENAI_API_KEY = os.getenv(\"OPENAI_API_KEY\")\\n    setting.LLM_MODEL_NAME = os.getenv(\"LLM_MODEL_NAME\")\\n\\nlogger = setting.logger \\n\\n'}"
      ]
     },
     "execution_count": 158,
     "metadata": {},
     "output_type": "execute_result"
    }
   ],
   "source": [
    "f.__dict__"
   ]
  },
  {
   "cell_type": "code",
   "execution_count": null,
   "metadata": {},
   "outputs": [],
   "source": []
  }
 ],
 "metadata": {
  "kernelspec": {
   "display_name": ".venv",
   "language": "python",
   "name": "python3"
  },
  "language_info": {
   "codemirror_mode": {
    "name": "ipython",
    "version": 3
   },
   "file_extension": ".py",
   "mimetype": "text/x-python",
   "name": "python",
   "nbconvert_exporter": "python",
   "pygments_lexer": "ipython3",
   "version": "3.11.4"
  }
 },
 "nbformat": 4,
 "nbformat_minor": 2
}
